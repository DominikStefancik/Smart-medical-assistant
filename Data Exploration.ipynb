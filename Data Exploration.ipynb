{
 "cells": [
  {
   "cell_type": "code",
   "execution_count": null,
   "metadata": {},
   "outputs": [],
   "source": [
    "# Import libraries\n",
    "import requests, json\n",
    "from bs4 import BeautifulSoup\n",
    "import pandas as pd\n",
    "import matplotlib.pyplot as plt\n",
    "plt.style.use('seaborn')\n",
    "import difflib"
   ]
  },
  {
   "cell_type": "markdown",
   "metadata": {},
   "source": [
    "### There are two 'classes' - categories which are more coarse grained and types which are more fine-grained."
   ]
  },
  {
   "cell_type": "code",
   "execution_count": null,
   "metadata": {},
   "outputs": [],
   "source": [
    "url = \"https://health.axa.ch/hack/api/care-providers/categories\""
   ]
  },
  {
   "cell_type": "code",
   "execution_count": null,
   "metadata": {},
   "outputs": [],
   "source": [
    "r = requests.get(url, headers={'Authorization' : 'cut canvas'})\n",
    "tab = json.loads(r.text)\n",
    "cat_df = pd.DataFrame(tab['result'])"
   ]
  },
  {
   "cell_type": "code",
   "execution_count": 7,
   "metadata": {
    "scrolled": true
   },
   "outputs": [
    {
     "data": {
      "text/html": [
       "<div>\n",
       "<style scoped>\n",
       "    .dataframe tbody tr th:only-of-type {\n",
       "        vertical-align: middle;\n",
       "    }\n",
       "\n",
       "    .dataframe tbody tr th {\n",
       "        vertical-align: top;\n",
       "    }\n",
       "\n",
       "    .dataframe thead th {\n",
       "        text-align: right;\n",
       "    }\n",
       "</style>\n",
       "<table border=\"1\" class=\"dataframe\">\n",
       "  <thead>\n",
       "    <tr style=\"text-align: right;\">\n",
       "      <th></th>\n",
       "      <th>_id</th>\n",
       "      <th>de</th>\n",
       "      <th>en</th>\n",
       "      <th>types</th>\n",
       "    </tr>\n",
       "  </thead>\n",
       "  <tbody>\n",
       "    <tr>\n",
       "      <th>0</th>\n",
       "      <td>5b33a5142c9dd24355626305</td>\n",
       "      <td>Apotheken</td>\n",
       "      <td>pharmacies</td>\n",
       "      <td>[5b33a6142c9dd2435562634a, 5b33a6142c9dd243556...</td>\n",
       "    </tr>\n",
       "    <tr>\n",
       "      <th>1</th>\n",
       "      <td>5b33a5142c9dd24355626309</td>\n",
       "      <td>delegierte Psychotherapie</td>\n",
       "      <td>delegated psychotherapy</td>\n",
       "      <td>[5b33aa692c9dd24355626387, 5b33aa692c9dd243556...</td>\n",
       "    </tr>\n",
       "    <tr>\n",
       "      <th>2</th>\n",
       "      <td>5b33a5142c9dd2435562630f</td>\n",
       "      <td>KomplementärtherapeutInnen</td>\n",
       "      <td>Complementary therapists</td>\n",
       "      <td>[5b33aa692c9dd2435562638e, 5b33aa692c9dd243556...</td>\n",
       "    </tr>\n",
       "    <tr>\n",
       "      <th>3</th>\n",
       "      <td>5b33a5142c9dd24355626311</td>\n",
       "      <td>LogopädInnen</td>\n",
       "      <td>Speech therapists</td>\n",
       "      <td>[5b33aa692c9dd24355626365, 5b33aa692c9dd243556...</td>\n",
       "    </tr>\n",
       "    <tr>\n",
       "      <th>4</th>\n",
       "      <td>5b33a5142c9dd24355626313</td>\n",
       "      <td>Neruopsychologen</td>\n",
       "      <td>neruopsychologists</td>\n",
       "      <td>[5b33aa692c9dd2435562637a, 5b33aa692c9dd243556...</td>\n",
       "    </tr>\n",
       "  </tbody>\n",
       "</table>\n",
       "</div>"
      ],
      "text/plain": [
       "                        _id                          de  \\\n",
       "0  5b33a5142c9dd24355626305                   Apotheken   \n",
       "1  5b33a5142c9dd24355626309   delegierte Psychotherapie   \n",
       "2  5b33a5142c9dd2435562630f  KomplementärtherapeutInnen   \n",
       "3  5b33a5142c9dd24355626311                LogopädInnen   \n",
       "4  5b33a5142c9dd24355626313            Neruopsychologen   \n",
       "\n",
       "                         en                                              types  \n",
       "0                pharmacies  [5b33a6142c9dd2435562634a, 5b33a6142c9dd243556...  \n",
       "1   delegated psychotherapy  [5b33aa692c9dd24355626387, 5b33aa692c9dd243556...  \n",
       "2  Complementary therapists  [5b33aa692c9dd2435562638e, 5b33aa692c9dd243556...  \n",
       "3         Speech therapists  [5b33aa692c9dd24355626365, 5b33aa692c9dd243556...  \n",
       "4        neruopsychologists  [5b33aa692c9dd2435562637a, 5b33aa692c9dd243556...  "
      ]
     },
     "execution_count": 7,
     "metadata": {},
     "output_type": "execute_result"
    }
   ],
   "source": [
    "cat_df.head()"
   ]
  },
  {
   "cell_type": "code",
   "execution_count": 8,
   "metadata": {},
   "outputs": [],
   "source": [
    "##types (finer way of representing categories)\n",
    "\n",
    "url2 = \"https://health.axa.ch/hack/api/care-providers/types\"\n",
    "r2 = requests.get(url2, headers={'Authorization' : 'cut canvas'})\n",
    "tab2 = json.loads(r2.text)\n",
    "types_df = pd.DataFrame(tab2['result'])"
   ]
  },
  {
   "cell_type": "code",
   "execution_count": 9,
   "metadata": {},
   "outputs": [
    {
     "data": {
      "text/html": [
       "<div>\n",
       "<style scoped>\n",
       "    .dataframe tbody tr th:only-of-type {\n",
       "        vertical-align: middle;\n",
       "    }\n",
       "\n",
       "    .dataframe tbody tr th {\n",
       "        vertical-align: top;\n",
       "    }\n",
       "\n",
       "    .dataframe thead th {\n",
       "        text-align: right;\n",
       "    }\n",
       "</style>\n",
       "<table border=\"1\" class=\"dataframe\">\n",
       "  <thead>\n",
       "    <tr style=\"text-align: right;\">\n",
       "      <th></th>\n",
       "      <th>_id</th>\n",
       "      <th>category</th>\n",
       "      <th>de</th>\n",
       "      <th>en</th>\n",
       "    </tr>\n",
       "  </thead>\n",
       "  <tbody>\n",
       "    <tr>\n",
       "      <th>0</th>\n",
       "      <td>5b33a6142c9dd24355626324</td>\n",
       "      <td>5b33a5142c9dd24355626319</td>\n",
       "      <td>Spital offen</td>\n",
       "      <td>Hospital (various)</td>\n",
       "    </tr>\n",
       "    <tr>\n",
       "      <th>1</th>\n",
       "      <td>5b33a6142c9dd24355626326</td>\n",
       "      <td>5b33a5142c9dd24355626319</td>\n",
       "      <td>Allgemeinspitäler mit 500 und mehr Betten</td>\n",
       "      <td>General hospitals with 500 and more beds</td>\n",
       "    </tr>\n",
       "    <tr>\n",
       "      <th>2</th>\n",
       "      <td>5b33a6142c9dd24355626327</td>\n",
       "      <td>5b33a5142c9dd24355626319</td>\n",
       "      <td>Allgemeinspitläer mit 250-499 Betten</td>\n",
       "      <td>General hospitals with 250-499 beds</td>\n",
       "    </tr>\n",
       "    <tr>\n",
       "      <th>3</th>\n",
       "      <td>5b33a6142c9dd24355626328</td>\n",
       "      <td>5b33a5142c9dd24355626319</td>\n",
       "      <td>Allgemeinspitäler mit 124-249 Betten</td>\n",
       "      <td>General hospitals with 124-249 beds</td>\n",
       "    </tr>\n",
       "    <tr>\n",
       "      <th>4</th>\n",
       "      <td>5b33a6142c9dd24355626329</td>\n",
       "      <td>5b33a5142c9dd24355626319</td>\n",
       "      <td>Allgmeinspitäler mit 75-124 Betten</td>\n",
       "      <td>General hospitals with 75-124 beds</td>\n",
       "    </tr>\n",
       "  </tbody>\n",
       "</table>\n",
       "</div>"
      ],
      "text/plain": [
       "                        _id                  category  \\\n",
       "0  5b33a6142c9dd24355626324  5b33a5142c9dd24355626319   \n",
       "1  5b33a6142c9dd24355626326  5b33a5142c9dd24355626319   \n",
       "2  5b33a6142c9dd24355626327  5b33a5142c9dd24355626319   \n",
       "3  5b33a6142c9dd24355626328  5b33a5142c9dd24355626319   \n",
       "4  5b33a6142c9dd24355626329  5b33a5142c9dd24355626319   \n",
       "\n",
       "                                          de  \\\n",
       "0                               Spital offen   \n",
       "1  Allgemeinspitäler mit 500 und mehr Betten   \n",
       "2       Allgemeinspitläer mit 250-499 Betten   \n",
       "3       Allgemeinspitäler mit 124-249 Betten   \n",
       "4         Allgmeinspitäler mit 75-124 Betten   \n",
       "\n",
       "                                         en  \n",
       "0                        Hospital (various)  \n",
       "1  General hospitals with 500 and more beds  \n",
       "2       General hospitals with 250-499 beds  \n",
       "3       General hospitals with 124-249 beds  \n",
       "4        General hospitals with 75-124 beds  "
      ]
     },
     "execution_count": 9,
     "metadata": {},
     "output_type": "execute_result"
    }
   ],
   "source": [
    "types_df.head()"
   ]
  },
  {
   "cell_type": "markdown",
   "metadata": {},
   "source": [
    "### Finding the list of all physician types"
   ]
  },
  {
   "cell_type": "code",
   "execution_count": 10,
   "metadata": {},
   "outputs": [],
   "source": [
    "##url_q queries url for all physicians\n",
    "\n",
    "types_physicians = cat_df[cat_df['en']=='physicians']['types']\n",
    "\n",
    "types_physicians.iloc[0][0]\n",
    "\n",
    "url_q = 'https://health.axa.ch/hack/api/care-providers?type='\n",
    "for link in types_physicians.iloc[0]:\n",
    "    url_q = url_q + str(link) + '&type='\n",
    "\n",
    "url_q = url_q[:-6] #remove last &type=\n",
    "\n",
    "r_q = requests.get(url_q, headers={'Authorization' : 'cut canvas'})\n",
    "tab_q = json.loads(r_q.text)\n",
    "# print(tab_q)"
   ]
  },
  {
   "cell_type": "code",
   "execution_count": 11,
   "metadata": {},
   "outputs": [],
   "source": [
    "phys_dict = {}\n",
    "\n",
    "for link in types_physicians.iloc[0]:\n",
    "    phys_dict[link] = types_df[types_df['_id']==link]['en'].iloc[0]"
   ]
  },
  {
   "cell_type": "code",
   "execution_count": 25,
   "metadata": {},
   "outputs": [],
   "source": [
    "# phys_dict"
   ]
  },
  {
   "cell_type": "code",
   "execution_count": 16,
   "metadata": {},
   "outputs": [],
   "source": [
    "##url_q queries url for all physicians in the city of Zurich\n",
    "\n",
    "r_q = requests.get(url_q + '&city=zurich', headers={'Authorization' : 'cut canvas'})\n",
    "tab_q = json.loads(r_q.text)\n",
    "# print(tab_q)"
   ]
  },
  {
   "cell_type": "code",
   "execution_count": 19,
   "metadata": {},
   "outputs": [],
   "source": [
    "##url_q queries for physicians in the city of Zurich, top 10 closest ones to a selected location (47.37,8.49)\n",
    "\n",
    "r_q = requests.get(url_q + '&nearLat=47.37&nearLng=8.49&nearLimit=10', headers={'Authorization' : 'cut canvas'})\n",
    "tab_q = json.loads(r_q.text)\n",
    "# print(tab_q)"
   ]
  },
  {
   "cell_type": "code",
   "execution_count": 20,
   "metadata": {},
   "outputs": [],
   "source": [
    "##url_q queries for physicians in the city of Zurich, top 10 closest ones to a selected location (47.37,8.49)\n",
    "\n",
    "##ERROR in distance\n",
    "\n",
    "r_q = requests.get(url_q + '&nearLat=47.37&nearLng=8.49&nearDistance=1000', headers={'Authorization' : 'cut canvas'})\n",
    "tab_q = json.loads(r_q.text)\n",
    "# print(tab_q)"
   ]
  },
  {
   "cell_type": "markdown",
   "metadata": {},
   "source": [
    "### The same analysis for pharmacies"
   ]
  },
  {
   "cell_type": "code",
   "execution_count": 22,
   "metadata": {},
   "outputs": [],
   "source": [
    "##url_q queries url for all pharmacies\n",
    "\n",
    "types_pharmas = cat_df[cat_df['en']=='pharmacies']['types']\n",
    "\n",
    "types_pharmas.iloc[0][0]\n",
    "\n",
    "url_q = 'https://health.axa.ch/hack/api/care-providers?type='\n",
    "for link in types_physicians.iloc[0]:\n",
    "    url_q = url_q + str(link) + '&type='\n",
    "\n",
    "url_q = url_q[:-6] #remove last &type=\n",
    "\n",
    "r_q = requests.get(url_q, headers={'Authorization' : 'cut canvas'})\n",
    "tab_q = json.loads(r_q.text)\n",
    "# print(tab_q)"
   ]
  },
  {
   "cell_type": "code",
   "execution_count": 23,
   "metadata": {},
   "outputs": [],
   "source": [
    "pharma_dict = {}\n",
    "\n",
    "for link in types_pharmas.iloc[0]:\n",
    "    pharma_dict[link] = types_df[types_df['_id']==link]['en'].iloc[0]"
   ]
  },
  {
   "cell_type": "code",
   "execution_count": 24,
   "metadata": {},
   "outputs": [
    {
     "data": {
      "text/plain": [
       "{'5b33a6142c9dd24355626349': 'pharmacies',\n",
       " '5b33a6142c9dd2435562634a': 'cooperative pharmacies',\n",
       " '5b33a6142c9dd2435562634c': 'special cases'}"
      ]
     },
     "execution_count": 24,
     "metadata": {},
     "output_type": "execute_result"
    }
   ],
   "source": [
    "pharma_dict"
   ]
  },
  {
   "cell_type": "code",
   "execution_count": null,
   "metadata": {},
   "outputs": [],
   "source": []
  }
 ],
 "metadata": {
  "kernelspec": {
   "display_name": "Python 3",
   "language": "python",
   "name": "python3"
  },
  "language_info": {
   "codemirror_mode": {
    "name": "ipython",
    "version": 3
   },
   "file_extension": ".py",
   "mimetype": "text/x-python",
   "name": "python",
   "nbconvert_exporter": "python",
   "pygments_lexer": "ipython3",
   "version": "3.6.4"
  }
 },
 "nbformat": 4,
 "nbformat_minor": 2
}
